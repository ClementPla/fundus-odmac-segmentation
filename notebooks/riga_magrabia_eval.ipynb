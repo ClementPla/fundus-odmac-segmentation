{
 "cells": [
  {
   "cell_type": "markdown",
   "metadata": {
    "vscode": {
     "languageId": "html"
    }
   },
   "source": [
    "# RIGA Optic Disk Segmentation (Magrabia)"
   ]
  },
  {
   "cell_type": "code",
   "execution_count": 12,
   "metadata": {},
   "outputs": [],
   "source": [
    "from pathlib import Path\n",
    "from fundus_odmac_toolkit.models.segmentation import segment\n",
    "from fundus_odmac_toolkit.models.hf_hub import list_models\n",
    "from fundus_data_toolkit.functional import open_image\n",
    "import numpy as np\n",
    "from tqdm.notebook import tqdm\n",
    "import matplotlib.pyplot as plt\n",
    "import cv2\n",
    "from torchmetrics import JaccardIndex\n",
    "import re\n",
    "import torch\n"
   ]
  },
  {
   "cell_type": "code",
   "execution_count": 2,
   "metadata": {},
   "outputs": [],
   "source": [
    "\n",
    "\n",
    "root = Path('/home/clement/Documents/data/RIGA-dataset/Magrabia/')\n",
    "\n",
    "all_gts = list(root.glob('**/*-*.tif'))"
   ]
  },
  {
   "cell_type": "code",
   "execution_count": 3,
   "metadata": {},
   "outputs": [],
   "source": [
    "stored_images = {}\n",
    "stored_masks = {}"
   ]
  },
  {
   "cell_type": "code",
   "execution_count": 4,
   "metadata": {},
   "outputs": [
    {
     "data": {
      "application/vnd.jupyter.widget-view+json": {
       "model_id": "c4f4169489e44201908eff869f7e5c7a",
       "version_major": 2,
       "version_minor": 0
      },
      "text/plain": [
       "  0%|          | 0/570 [00:00<?, ?it/s]"
      ]
     },
     "metadata": {},
     "output_type": "display_data"
    },
    {
     "name": "stdout",
     "output_type": "stream",
     "text": [
      "No image found for Image7\n",
      "No image found for Image8\n"
     ]
    }
   ],
   "source": [
    "\n",
    "\n",
    "def extract_mask(img_gt, ref_img):\n",
    "    mask_border = np.abs(img_gt - ref_img).max(-1) > 25\n",
    "    \n",
    "    mask = cv2.floodFill(mask_border.astype(np.uint8), None, (0, 0), 255)[1]\n",
    "    return mask\n",
    "    \n",
    "\n",
    "\n",
    "for img_gt in tqdm(all_gts):\n",
    "    img_name = img_gt.stem.split('-')[0]\n",
    "    img_parent = img_gt.parent\n",
    "    img_id = f'{img_parent.stem}/{img_name.lower()}'\n",
    "    if img_id in stored_images:\n",
    "        continue\n",
    "    \n",
    "    # Ugly way to find all the possible image names given the lack of standardization in the dataset\n",
    "    img_path = [f for f in img_parent.iterdir() if re.search(fr'{img_name}prime.tif|{img_name.capitalize()}prime.tif|{img_name.capitalize()}.tif|{img_name}.tif', str(f))]\n",
    "    img_path = list(img_parent.glob(f'{img_name}prime.tif')) + list(img_parent.glob(f'{img_name.capitalize()}prime.tif'))  + list(img_parent.glob(f'{img_name.capitalize()}.tif')) + list(img_parent.glob(f'{img_name}.tif'))\n",
    "    if len(img_path) == 0:\n",
    "        print(f'No image found for {img_name}')\n",
    "        continue\n",
    "    else:\n",
    "        img_path = img_path[0]\n",
    "    current_gt_masks = list(img_parent.glob(f'{img_name}-*.tif'))+list(img_parent.glob(f'{img_name.capitalize()}-*.tif'))\n",
    "    try:\n",
    "        img = open_image(img_path)\n",
    "    except:\n",
    "        print(f'Failed to open {img_name}')\n",
    "        \n",
    "        continue\n",
    "    gts = (np.stack([extract_mask(img, open_image(f)) for f in current_gt_masks]))\n",
    "    gts =  1 - (np.mean(gts, axis=0) > gts.shape[0] / 2)\n",
    "    stored_images[img_id] = img\n",
    "    stored_masks[img_id] = gts"
   ]
  },
  {
   "cell_type": "code",
   "execution_count": 13,
   "metadata": {},
   "outputs": [
    {
     "name": "stdout",
     "output_type": "stream",
     "text": [
      "Architecture | \u001b[94m Encoder | \u001b[92m Variants\n",
      "\u001b[1munet \u001b[94mseresnet50 \u001b[92m (1 variants)\n",
      "\u001b[1munet \u001b[94mmaxvit_tiny_tf_512 \u001b[92m (1 variants)\n",
      "\u001b[1munet \u001b[94mmaxvit_base_tf_512 \u001b[92m (1 variants)\n",
      "\u001b[1munet \u001b[94mmobilevitv2_100 \u001b[92m (1 variants)\n",
      "\u001b[1munetplusplus \u001b[94mseresnet50 \u001b[92m (1 variants)\n",
      "\u001b[1munet \u001b[94mmobilenetv3_small_050 \u001b[92m (1 variants)\n",
      "\u001b[1munetplusplus \u001b[94mmobilenetv3_small_050 \u001b[92m (1 variants)\n",
      "\u001b[1munet \u001b[94mmaxvit_small_tf_512 \u001b[92m (1 variants)\n"
     ]
    }
   ],
   "source": [
    "all_models = list_models()"
   ]
  },
  {
   "cell_type": "code",
   "execution_count": 14,
   "metadata": {},
   "outputs": [
    {
     "data": {
      "application/vnd.jupyter.widget-view+json": {
       "model_id": "ba7c79fe0dc24fd4b216cf0f5a338244",
       "version_major": 2,
       "version_minor": 0
      },
      "text/plain": [
       "  0%|          | 0/95 [00:00<?, ?it/s]"
      ]
     },
     "metadata": {},
     "output_type": "display_data"
    },
    {
     "name": "stdout",
     "output_type": "stream",
     "text": [
      "Model: unet-seresnet50, Jaccard Index: 87.78%\n"
     ]
    },
    {
     "data": {
      "application/vnd.jupyter.widget-view+json": {
       "model_id": "6ce49657e0984cee843508a3d8818dae",
       "version_major": 2,
       "version_minor": 0
      },
      "text/plain": [
       "  0%|          | 0/95 [00:00<?, ?it/s]"
      ]
     },
     "metadata": {},
     "output_type": "display_data"
    },
    {
     "name": "stdout",
     "output_type": "stream",
     "text": [
      "Model: unet-maxvit_tiny_tf_512, Jaccard Index: 87.17%\n"
     ]
    },
    {
     "data": {
      "application/vnd.jupyter.widget-view+json": {
       "model_id": "4ea7a64da55b479abbab9df6e517031d",
       "version_major": 2,
       "version_minor": 0
      },
      "text/plain": [
       "  0%|          | 0/95 [00:00<?, ?it/s]"
      ]
     },
     "metadata": {},
     "output_type": "display_data"
    },
    {
     "name": "stdout",
     "output_type": "stream",
     "text": [
      "Model: unet-maxvit_base_tf_512, Jaccard Index: 80.66%\n"
     ]
    },
    {
     "data": {
      "application/vnd.jupyter.widget-view+json": {
       "model_id": "59558b54ef9a465cbae0b0891a844046",
       "version_major": 2,
       "version_minor": 0
      },
      "text/plain": [
       "  0%|          | 0/95 [00:00<?, ?it/s]"
      ]
     },
     "metadata": {},
     "output_type": "display_data"
    },
    {
     "name": "stdout",
     "output_type": "stream",
     "text": [
      "Model: unet-mobilevitv2_100, Jaccard Index: 87.30%\n"
     ]
    },
    {
     "data": {
      "application/vnd.jupyter.widget-view+json": {
       "model_id": "0110653551e84a0492d933d44a279035",
       "version_major": 2,
       "version_minor": 0
      },
      "text/plain": [
       "  0%|          | 0/95 [00:00<?, ?it/s]"
      ]
     },
     "metadata": {},
     "output_type": "display_data"
    },
    {
     "name": "stdout",
     "output_type": "stream",
     "text": [
      "Model: unetplusplus-seresnet50, Jaccard Index: 81.95%\n"
     ]
    },
    {
     "data": {
      "application/vnd.jupyter.widget-view+json": {
       "model_id": "9944fa4a13de421981c5a0a6a7477a76",
       "version_major": 2,
       "version_minor": 0
      },
      "text/plain": [
       "  0%|          | 0/95 [00:00<?, ?it/s]"
      ]
     },
     "metadata": {},
     "output_type": "display_data"
    },
    {
     "name": "stdout",
     "output_type": "stream",
     "text": [
      "Model: unet-mobilenetv3_small_050, Jaccard Index: 86.41%\n"
     ]
    },
    {
     "data": {
      "application/vnd.jupyter.widget-view+json": {
       "model_id": "4bb2805b60954f25b42934c7bc2b7cba",
       "version_major": 2,
       "version_minor": 0
      },
      "text/plain": [
       "  0%|          | 0/95 [00:00<?, ?it/s]"
      ]
     },
     "metadata": {},
     "output_type": "display_data"
    },
    {
     "name": "stdout",
     "output_type": "stream",
     "text": [
      "Model: unetplusplus-mobilenetv3_small_050, Jaccard Index: 82.62%\n"
     ]
    },
    {
     "data": {
      "application/vnd.jupyter.widget-view+json": {
       "model_id": "7b08d56d6e464c52906d4113dc3ff192",
       "version_major": 2,
       "version_minor": 0
      },
      "text/plain": [
       "  0%|          | 0/95 [00:00<?, ?it/s]"
      ]
     },
     "metadata": {},
     "output_type": "display_data"
    },
    {
     "name": "stdout",
     "output_type": "stream",
     "text": [
      "Model: unet-maxvit_small_tf_512, Jaccard Index: 86.54%\n"
     ]
    }
   ],
   "source": [
    "\n",
    "def infer(arch, encoder):\n",
    "    jaccard_index = JaccardIndex(task='binary').cuda()\n",
    "    for img_id in tqdm(stored_images.keys()):\n",
    "        img = stored_images[img_id]\n",
    "        gt = stored_masks[img_id]\n",
    "        gt = torch.from_numpy(gt).cuda() > 0\n",
    "        predicted_od = segment(img, arch=arch, encoder=encoder)\n",
    "        predicted_od = (predicted_od.argmax(0) == 1).long()\n",
    "        jaccard_index.update(predicted_od, gt)\n",
    "        \n",
    "    print(f\"Model: {arch}-{encoder}, Jaccard Index: {jaccard_index.compute().item():.2%}\")\n",
    "\n",
    "    \n",
    "for arch, encoder in all_models:\n",
    "    infer(arch, encoder)"
   ]
  }
 ],
 "metadata": {
  "kernelspec": {
   "display_name": "dl",
   "language": "python",
   "name": "python3"
  },
  "language_info": {
   "codemirror_mode": {
    "name": "ipython",
    "version": 3
   },
   "file_extension": ".py",
   "mimetype": "text/x-python",
   "name": "python",
   "nbconvert_exporter": "python",
   "pygments_lexer": "ipython3",
   "version": "3.11.9"
  }
 },
 "nbformat": 4,
 "nbformat_minor": 2
}
