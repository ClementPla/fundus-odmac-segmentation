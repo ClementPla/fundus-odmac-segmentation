{
 "cells": [
  {
   "cell_type": "markdown",
   "metadata": {},
   "source": [
    "# Optic Disk Segmentation Eval"
   ]
  },
  {
   "cell_type": "code",
   "execution_count": 1,
   "metadata": {},
   "outputs": [],
   "source": [
    "%load_ext autoreload\n",
    "%autoreload 2"
   ]
  },
  {
   "cell_type": "code",
   "execution_count": 21,
   "metadata": {},
   "outputs": [],
   "source": [
    "\n",
    "from fundus_odmac_toolkit.models.segmentation import segment\n",
    "from fundus_odmac_toolkit.models.hf_hub import list_models\n",
    "from fundus_data_toolkit.functional import open_image\n",
    "from fundus_data_toolkit.utils.visualization import plot_image_and_mask\n",
    "import cv2\n",
    "import torch\n",
    "from pathlib import Path\n",
    "import torchmetrics\n",
    "from tqdm.notebook import tqdm\n",
    "\n",
    "import pandas as pd"
   ]
  },
  {
   "cell_type": "code",
   "execution_count": 3,
   "metadata": {},
   "outputs": [
    {
     "name": "stdout",
     "output_type": "stream",
     "text": [
      "Architecture | \u001b[94m Encoder | \u001b[92m Variants\n",
      "\u001b[1munet \u001b[94mseresnet50 \u001b[92m (1 variants)\n",
      "\u001b[1munet \u001b[94mmaxvit_tiny_tf_512 \u001b[92m (1 variants)\n",
      "\u001b[1munet \u001b[94mmaxvit_base_tf_512 \u001b[92m (1 variants)\n",
      "\u001b[1munet \u001b[94mmobilevitv2_100 \u001b[92m (1 variants)\n",
      "\u001b[1munetplusplus \u001b[94mseresnet50 \u001b[92m (1 variants)\n",
      "\u001b[1munet \u001b[94mmobilenetv3_small_050 \u001b[92m (1 variants)\n",
      "\u001b[1munetplusplus \u001b[94mmobilenetv3_small_050 \u001b[92m (1 variants)\n",
      "\u001b[1munet \u001b[94mmaxvit_small_tf_512 \u001b[92m (1 variants)\n"
     ]
    }
   ],
   "source": [
    "all_models = list_models()"
   ]
  },
  {
   "cell_type": "code",
   "execution_count": 4,
   "metadata": {},
   "outputs": [
    {
     "data": {
      "application/vnd.jupyter.widget-view+json": {
       "model_id": "a84cc67f72ae4de49044afb3b6c81033",
       "version_major": 2,
       "version_minor": 0
      },
      "text/plain": [
       "  0%|          | 0/27 [00:00<?, ?it/s]"
      ]
     },
     "metadata": {},
     "output_type": "display_data"
    },
    {
     "name": "stdout",
     "output_type": "stream",
     "text": [
      "Model: unet-seresnet50, Jaccard Index: 92.03%\n"
     ]
    },
    {
     "data": {
      "application/vnd.jupyter.widget-view+json": {
       "model_id": "a27fd0647c754d1cbeedfef8f2cb2a7b",
       "version_major": 2,
       "version_minor": 0
      },
      "text/plain": [
       "  0%|          | 0/27 [00:00<?, ?it/s]"
      ]
     },
     "metadata": {},
     "output_type": "display_data"
    },
    {
     "name": "stdout",
     "output_type": "stream",
     "text": [
      "Model: unet-maxvit_tiny_tf_512, Jaccard Index: 92.27%\n"
     ]
    },
    {
     "data": {
      "application/vnd.jupyter.widget-view+json": {
       "model_id": "bda2a00423664f6c9fe34dc6e359718a",
       "version_major": 2,
       "version_minor": 0
      },
      "text/plain": [
       "  0%|          | 0/27 [00:00<?, ?it/s]"
      ]
     },
     "metadata": {},
     "output_type": "display_data"
    },
    {
     "name": "stdout",
     "output_type": "stream",
     "text": [
      "Model: unet-maxvit_base_tf_512, Jaccard Index: 88.19%\n"
     ]
    },
    {
     "data": {
      "application/vnd.jupyter.widget-view+json": {
       "model_id": "6244c4ed32d7425a9e756069e78ed99f",
       "version_major": 2,
       "version_minor": 0
      },
      "text/plain": [
       "  0%|          | 0/27 [00:00<?, ?it/s]"
      ]
     },
     "metadata": {},
     "output_type": "display_data"
    },
    {
     "name": "stdout",
     "output_type": "stream",
     "text": [
      "Model: unet-mobilevitv2_100, Jaccard Index: 92.07%\n"
     ]
    },
    {
     "data": {
      "application/vnd.jupyter.widget-view+json": {
       "model_id": "57f35a28281b41e697a5a152a575015f",
       "version_major": 2,
       "version_minor": 0
      },
      "text/plain": [
       "  0%|          | 0/27 [00:00<?, ?it/s]"
      ]
     },
     "metadata": {},
     "output_type": "display_data"
    },
    {
     "name": "stdout",
     "output_type": "stream",
     "text": [
      "Model: unetplusplus-seresnet50, Jaccard Index: 88.92%\n"
     ]
    },
    {
     "data": {
      "application/vnd.jupyter.widget-view+json": {
       "model_id": "1b5f07482e5f40ad919619df86fb0121",
       "version_major": 2,
       "version_minor": 0
      },
      "text/plain": [
       "  0%|          | 0/27 [00:00<?, ?it/s]"
      ]
     },
     "metadata": {},
     "output_type": "display_data"
    },
    {
     "name": "stdout",
     "output_type": "stream",
     "text": [
      "Model: unet-mobilenetv3_small_050, Jaccard Index: 89.13%\n"
     ]
    },
    {
     "data": {
      "application/vnd.jupyter.widget-view+json": {
       "model_id": "9efc404f861742b4a00abf55b8b9005e",
       "version_major": 2,
       "version_minor": 0
      },
      "text/plain": [
       "  0%|          | 0/27 [00:00<?, ?it/s]"
      ]
     },
     "metadata": {},
     "output_type": "display_data"
    },
    {
     "name": "stdout",
     "output_type": "stream",
     "text": [
      "Model: unetplusplus-mobilenetv3_small_050, Jaccard Index: 85.86%\n"
     ]
    },
    {
     "data": {
      "application/vnd.jupyter.widget-view+json": {
       "model_id": "b2f1579d528c4be2a970559fe4716224",
       "version_major": 2,
       "version_minor": 0
      },
      "text/plain": [
       "  0%|          | 0/27 [00:00<?, ?it/s]"
      ]
     },
     "metadata": {},
     "output_type": "display_data"
    },
    {
     "name": "stdout",
     "output_type": "stream",
     "text": [
      "Model: unet-maxvit_small_tf_512, Jaccard Index: 92.84%\n"
     ]
    }
   ],
   "source": [
    "\n",
    "root_img = Path('/home/clement/Documents/data/IDRID/A. Segmentation/1. Original Images/b. Testing Set/')\n",
    "root_masks = Path('/home/clement/Documents/data/IDRID/A. Segmentation/2. All Segmentation Groundtruths/b. Testing Set/5. Optic Disc/')\n",
    "\n",
    "all_files_names = [f.stem for f in root_img.glob('*.jpg')]\n",
    "def infer(arch, encoder):\n",
    "    jaccardIndex = torchmetrics.JaccardIndex(task='binary').cuda()\n",
    "    for file_name in tqdm(all_files_names):\n",
    "        img_name = (root_img / file_name).with_suffix('.jpg')\n",
    "        mask_name = (root_masks / (file_name+'_OD')).with_suffix('.tif')\n",
    "        mask = cv2.imread(str(mask_name), cv2.IMREAD_GRAYSCALE)\n",
    "        \n",
    "        mask = mask > 0\n",
    "        mask = torch.tensor(mask).cuda().float()\n",
    "        \n",
    "        \n",
    "        image = open_image(img_name)\n",
    "        pred = segment(image, use_tta=False, autofit_resolution=True, reverse_autofit=True, arch=arch, encoder=encoder)\n",
    "        pred = torch.argmax(pred, dim=0)\n",
    "        pred = (pred == 1).long()\n",
    "        jaccardIndex.update(pred, mask)\n",
    "    print(f\"Model: {arch}-{encoder}, Jaccard Index: {jaccardIndex.compute().item():.2%}\")\n",
    "\n",
    "for arch, encoder in all_models:\n",
    "    infer(arch, encoder)\n",
    "  "
   ]
  },
  {
   "cell_type": "markdown",
   "metadata": {},
   "source": [
    "# Optic Disk Localization"
   ]
  },
  {
   "cell_type": "code",
   "execution_count": 19,
   "metadata": {},
   "outputs": [
    {
     "data": {
      "application/vnd.jupyter.widget-view+json": {
       "model_id": "a109f77e6a06429b94e690a85d44b5ae",
       "version_major": 2,
       "version_minor": 0
      },
      "text/plain": [
       "  0%|          | 0/103 [00:00<?, ?it/s]"
      ]
     },
     "metadata": {},
     "output_type": "display_data"
    },
    {
     "name": "stdout",
     "output_type": "stream",
     "text": [
      "Model: unet-seresnet50, Mean distance: 25.73\n"
     ]
    },
    {
     "data": {
      "application/vnd.jupyter.widget-view+json": {
       "model_id": "32dbe13491f84db8ab3b7e0520439bae",
       "version_major": 2,
       "version_minor": 0
      },
      "text/plain": [
       "  0%|          | 0/103 [00:00<?, ?it/s]"
      ]
     },
     "metadata": {},
     "output_type": "display_data"
    },
    {
     "name": "stdout",
     "output_type": "stream",
     "text": [
      "Model: unet-maxvit_tiny_tf_512, Mean distance: 30.17\n"
     ]
    },
    {
     "data": {
      "application/vnd.jupyter.widget-view+json": {
       "model_id": "dd01f6c2575f459983861e15d4767328",
       "version_major": 2,
       "version_minor": 0
      },
      "text/plain": [
       "  0%|          | 0/103 [00:00<?, ?it/s]"
      ]
     },
     "metadata": {},
     "output_type": "display_data"
    },
    {
     "name": "stdout",
     "output_type": "stream",
     "text": [
      "Model: unet-maxvit_base_tf_512, Mean distance: 30.09\n"
     ]
    },
    {
     "data": {
      "application/vnd.jupyter.widget-view+json": {
       "model_id": "68ba1725e5c8493a9c3e8e95747cbfe4",
       "version_major": 2,
       "version_minor": 0
      },
      "text/plain": [
       "  0%|          | 0/103 [00:00<?, ?it/s]"
      ]
     },
     "metadata": {},
     "output_type": "display_data"
    },
    {
     "name": "stdout",
     "output_type": "stream",
     "text": [
      "Model: unet-mobilevitv2_100, Mean distance: 28.26\n"
     ]
    },
    {
     "data": {
      "application/vnd.jupyter.widget-view+json": {
       "model_id": "6bd0397f7cbc4736a35c7d8bc09b1599",
       "version_major": 2,
       "version_minor": 0
      },
      "text/plain": [
       "  0%|          | 0/103 [00:00<?, ?it/s]"
      ]
     },
     "metadata": {},
     "output_type": "display_data"
    },
    {
     "name": "stdout",
     "output_type": "stream",
     "text": [
      "Model: unetplusplus-seresnet50, Mean distance: 28.43\n"
     ]
    },
    {
     "data": {
      "application/vnd.jupyter.widget-view+json": {
       "model_id": "25472e3fd0d54b2dbbb8552c7e1cc367",
       "version_major": 2,
       "version_minor": 0
      },
      "text/plain": [
       "  0%|          | 0/103 [00:00<?, ?it/s]"
      ]
     },
     "metadata": {},
     "output_type": "display_data"
    },
    {
     "name": "stdout",
     "output_type": "stream",
     "text": [
      "Model: unet-mobilenetv3_small_050, Mean distance: 34.72\n"
     ]
    },
    {
     "data": {
      "application/vnd.jupyter.widget-view+json": {
       "model_id": "0a3cd74e9d744718aadac6d62a105de4",
       "version_major": 2,
       "version_minor": 0
      },
      "text/plain": [
       "  0%|          | 0/103 [00:00<?, ?it/s]"
      ]
     },
     "metadata": {},
     "output_type": "display_data"
    },
    {
     "name": "stdout",
     "output_type": "stream",
     "text": [
      "Model: unetplusplus-mobilenetv3_small_050, Mean distance: 42.44\n"
     ]
    },
    {
     "data": {
      "application/vnd.jupyter.widget-view+json": {
       "model_id": "ebd1dcaed7964773816f0ab7d699607e",
       "version_major": 2,
       "version_minor": 0
      },
      "text/plain": [
       "  0%|          | 0/103 [00:00<?, ?it/s]"
      ]
     },
     "metadata": {},
     "output_type": "display_data"
    },
    {
     "name": "stdout",
     "output_type": "stream",
     "text": [
      "Model: unet-maxvit_small_tf_512, Mean distance: 29.07\n"
     ]
    }
   ],
   "source": [
    "root = Path('/home/clement/Documents/data/IDRID/C. Localization/1. Original Images/b. Testing Set/')\n",
    "solution_filepath = '/home/clement/Documents/data/IDRID/C. Localization/2. Groundtruths/1. Optic Disc Center Location/b. IDRiD_OD_Center_Testing Set_Markups.csv'\n",
    "\n",
    "all_files = list(root.glob('*.jpg'))\n",
    "gt = pd.read_csv(solution_filepath)\n",
    "\n",
    "def inferod_loc(arch, encoder, tta=True):\n",
    "    all_distances = []\n",
    "    for file in tqdm(all_files):\n",
    "        filename = file.stem\n",
    "        image = open_image(file)\n",
    "        pred = segment(image, use_tta=tta, autofit_resolution=True, reverse_autofit=True, arch=arch, encoder=encoder)\n",
    "        pred = torch.argmax(pred, dim=0)\n",
    "        pred = (pred == 1).long()\n",
    "        y_center, x_center = pred.nonzero().float().mean(dim=0).tolist()\n",
    "        if y_center==0 and x_center==0:\n",
    "            continue\n",
    "        \n",
    "        gt_x_center, gt_y_center = gt[gt['Image No'] == filename][['X- Coordinate', 'Y - Coordinate']].values[0]\n",
    "        \n",
    "        distance = ((x_center - gt_x_center)**2 + (y_center - gt_y_center)**2)**0.5\n",
    "        all_distances.append(distance)\n",
    "    print(f\"Model: {arch}-{encoder}, Mean distance: {sum(all_distances)/len(all_distances):.2f}\")\n",
    "        \n",
    "\n",
    "for arch, encoder in all_models:\n",
    "    inferod_loc(arch, encoder, tta=True)"
   ]
  },
  {
   "cell_type": "markdown",
   "metadata": {},
   "source": [
    "# Fovea localization"
   ]
  },
  {
   "cell_type": "code",
   "execution_count": 44,
   "metadata": {},
   "outputs": [
    {
     "data": {
      "application/vnd.jupyter.widget-view+json": {
       "model_id": "ed52d71c94b944c392990890b8f68190",
       "version_major": 2,
       "version_minor": 0
      },
      "text/plain": [
       "  0%|          | 0/103 [00:00<?, ?it/s]"
      ]
     },
     "metadata": {},
     "output_type": "display_data"
    },
    {
     "name": "stdout",
     "output_type": "stream",
     "text": [
      "Macula was not detected!\n",
      "Macula was not detected!\n",
      "Macula was not detected!\n",
      "Macula was not detected!\n",
      "Macula was not detected!\n",
      "Macula was not detected!\n",
      "Macula was not detected!\n",
      "Macula was not detected!\n",
      "Model: unet-maxvit_small_tf_512, Mean distance: 48.12\n"
     ]
    }
   ],
   "source": [
    "import math\n",
    "\n",
    "\n",
    "\n",
    "solution_filepath_fovea = '/home/clement/Documents/data/IDRID/C. Localization/2. Groundtruths/2. Fovea Center Location/IDRiD_Fovea_Center_Testing Set_Markups.csv'\n",
    "gt_fovea = pd.read_csv(solution_filepath_fovea)\n",
    "def inferfovea_loc(arch, encoder, tta=True):\n",
    "    all_distances = []\n",
    "    for file in tqdm(all_files):\n",
    "        filename = file.stem\n",
    "        image = open_image(file)\n",
    "        pred = segment(image, use_tta=tta, autofit_resolution=True, reverse_autofit=True, arch=arch, encoder=encoder)\n",
    "        pred = torch.argmax(pred, dim=0)\n",
    "        pred = (pred == 2).long()\n",
    "        y_center, x_center = pred.nonzero().float().mean(dim=0).tolist()\n",
    "        \n",
    "        gt_x_center, gt_y_center = gt_fovea[gt_fovea['Image No'] == filename][['X- Coordinate', 'Y - Coordinate']].values[0]\n",
    "        distance = ((x_center - gt_x_center)**2 + (y_center - gt_y_center)**2)**0.5\n",
    "        if math.isnan(distance):\n",
    "            print('Macula was not detected!')\n",
    "            continue\n",
    "        all_distances.append(distance)\n",
    "    print(f\"Model: {arch}-{encoder}, Mean distance: {sum(all_distances)/len(all_distances):.2f}\") \n",
    "\n",
    "\n",
    "inferfovea_loc('unet', 'maxvit_small_tf_512', tta=True)"
   ]
  }
 ],
 "metadata": {
  "kernelspec": {
   "display_name": "dl",
   "language": "python",
   "name": "python3"
  },
  "language_info": {
   "codemirror_mode": {
    "name": "ipython",
    "version": 3
   },
   "file_extension": ".py",
   "mimetype": "text/x-python",
   "name": "python",
   "nbconvert_exporter": "python",
   "pygments_lexer": "ipython3",
   "version": "3.11.9"
  }
 },
 "nbformat": 4,
 "nbformat_minor": 2
}
