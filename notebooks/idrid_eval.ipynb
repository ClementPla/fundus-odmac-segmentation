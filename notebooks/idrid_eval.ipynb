{
 "cells": [
  {
   "cell_type": "markdown",
   "metadata": {},
   "source": [
    "# Optic Disk Segmentation Eval"
   ]
  },
  {
   "cell_type": "code",
   "execution_count": 1,
   "metadata": {},
   "outputs": [],
   "source": [
    "%load_ext autoreload\n",
    "%autoreload 2"
   ]
  },
  {
   "cell_type": "code",
   "execution_count": 21,
   "metadata": {},
   "outputs": [],
   "source": [
    "\n",
    "from fundus_odmac_toolkit.models.segmentation import segment\n",
    "from fundus_odmac_toolkit.models.hf_hub import list_models\n",
    "from fundus_data_toolkit.functional import open_image\n",
    "from fundus_data_toolkit.utils.visualization import plot_image_and_mask\n",
    "import cv2\n",
    "import torch\n",
    "from pathlib import Path\n",
    "import torchmetrics\n",
    "from tqdm.notebook import tqdm\n",
    "\n",
    "import pandas as pd"
   ]
  },
  {
   "cell_type": "code",
   "execution_count": 3,
   "metadata": {},
   "outputs": [
    {
     "name": "stdout",
     "output_type": "stream",
     "text": [
      "Architecture | \u001b[94m Encoder | \u001b[92m Variants\n",
      "\u001b[1munet \u001b[94mseresnet50 \u001b[92m (1 variants)\n",
      "\u001b[1munet \u001b[94mmaxvit_tiny_tf_512 \u001b[92m (1 variants)\n",
      "\u001b[1munet \u001b[94mmaxvit_base_tf_512 \u001b[92m (1 variants)\n",
      "\u001b[1munet \u001b[94mmobilevitv2_100 \u001b[92m (1 variants)\n",
      "\u001b[1munetplusplus \u001b[94mseresnet50 \u001b[92m (1 variants)\n",
      "\u001b[1munet \u001b[94mmobilenetv3_small_050 \u001b[92m (1 variants)\n",
      "\u001b[1munetplusplus \u001b[94mmobilenetv3_small_050 \u001b[92m (1 variants)\n",
      "\u001b[1munet \u001b[94mmaxvit_small_tf_512 \u001b[92m (1 variants)\n"
     ]
    }
   ],
   "source": [
    "all_models = list_models()"
   ]
  },
  {
   "cell_type": "code",
   "execution_count": 4,
   "metadata": {},
   "outputs": [
    {
     "data": {
      "application/vnd.jupyter.widget-view+json": {
       "model_id": "a84cc67f72ae4de49044afb3b6c81033",
       "version_major": 2,
       "version_minor": 0
      },
      "text/plain": [
       "  0%|          | 0/27 [00:00<?, ?it/s]"
      ]
     },
     "metadata": {},
     "output_type": "display_data"
    },
    {
     "name": "stdout",
     "output_type": "stream",
     "text": [
      "Model: unet-seresnet50, Jaccard Index: 92.03%\n"
     ]
    },
    {
     "data": {
      "application/vnd.jupyter.widget-view+json": {
       "model_id": "a27fd0647c754d1cbeedfef8f2cb2a7b",
       "version_major": 2,
       "version_minor": 0
      },
      "text/plain": [
       "  0%|          | 0/27 [00:00<?, ?it/s]"
      ]
     },
     "metadata": {},
     "output_type": "display_data"
    },
    {
     "name": "stdout",
     "output_type": "stream",
     "text": [
      "Model: unet-maxvit_tiny_tf_512, Jaccard Index: 92.27%\n"
     ]
    },
    {
     "data": {
      "application/vnd.jupyter.widget-view+json": {
       "model_id": "bda2a00423664f6c9fe34dc6e359718a",
       "version_major": 2,
       "version_minor": 0
      },
      "text/plain": [
       "  0%|          | 0/27 [00:00<?, ?it/s]"
      ]
     },
     "metadata": {},
     "output_type": "display_data"
    },
    {
     "name": "stdout",
     "output_type": "stream",
     "text": [
      "Model: unet-maxvit_base_tf_512, Jaccard Index: 88.19%\n"
     ]
    },
    {
     "data": {
      "application/vnd.jupyter.widget-view+json": {
       "model_id": "6244c4ed32d7425a9e756069e78ed99f",
       "version_major": 2,
       "version_minor": 0
      },
      "text/plain": [
       "  0%|          | 0/27 [00:00<?, ?it/s]"
      ]
     },
     "metadata": {},
     "output_type": "display_data"
    },
    {
     "name": "stdout",
     "output_type": "stream",
     "text": [
      "Model: unet-mobilevitv2_100, Jaccard Index: 92.07%\n"
     ]
    },
    {
     "data": {
      "application/vnd.jupyter.widget-view+json": {
       "model_id": "57f35a28281b41e697a5a152a575015f",
       "version_major": 2,
       "version_minor": 0
      },
      "text/plain": [
       "  0%|          | 0/27 [00:00<?, ?it/s]"
      ]
     },
     "metadata": {},
     "output_type": "display_data"
    },
    {
     "name": "stdout",
     "output_type": "stream",
     "text": [
      "Model: unetplusplus-seresnet50, Jaccard Index: 88.92%\n"
     ]
    },
    {
     "data": {
      "application/vnd.jupyter.widget-view+json": {
       "model_id": "1b5f07482e5f40ad919619df86fb0121",
       "version_major": 2,
       "version_minor": 0
      },
      "text/plain": [
       "  0%|          | 0/27 [00:00<?, ?it/s]"
      ]
     },
     "metadata": {},
     "output_type": "display_data"
    },
    {
     "name": "stdout",
     "output_type": "stream",
     "text": [
      "Model: unet-mobilenetv3_small_050, Jaccard Index: 89.13%\n"
     ]
    },
    {
     "data": {
      "application/vnd.jupyter.widget-view+json": {
       "model_id": "9efc404f861742b4a00abf55b8b9005e",
       "version_major": 2,
       "version_minor": 0
      },
      "text/plain": [
       "  0%|          | 0/27 [00:00<?, ?it/s]"
      ]
     },
     "metadata": {},
     "output_type": "display_data"
    },
    {
     "name": "stdout",
     "output_type": "stream",
     "text": [
      "Model: unetplusplus-mobilenetv3_small_050, Jaccard Index: 85.86%\n"
     ]
    },
    {
     "data": {
      "application/vnd.jupyter.widget-view+json": {
       "model_id": "b2f1579d528c4be2a970559fe4716224",
       "version_major": 2,
       "version_minor": 0
      },
      "text/plain": [
       "  0%|          | 0/27 [00:00<?, ?it/s]"
      ]
     },
     "metadata": {},
     "output_type": "display_data"
    },
    {
     "name": "stdout",
     "output_type": "stream",
     "text": [
      "Model: unet-maxvit_small_tf_512, Jaccard Index: 92.84%\n"
     ]
    }
   ],
   "source": [
    "\n",
    "root_img = Path('/home/clement/Documents/data/IDRID/A. Segmentation/1. Original Images/b. Testing Set/')\n",
    "root_masks = Path('/home/clement/Documents/data/IDRID/A. Segmentation/2. All Segmentation Groundtruths/b. Testing Set/5. Optic Disc/')\n",
    "\n",
    "all_files_names = [f.stem for f in root_img.glob('*.jpg')]\n",
    "def infer(arch, encoder):\n",
    "    jaccardIndex = torchmetrics.JaccardIndex(task='binary').cuda()\n",
    "    for file_name in tqdm(all_files_names):\n",
    "        img_name = (root_img / file_name).with_suffix('.jpg')\n",
    "        mask_name = (root_masks / (file_name+'_OD')).with_suffix('.tif')\n",
    "        mask = cv2.imread(str(mask_name), cv2.IMREAD_GRAYSCALE)\n",
    "        \n",
    "        mask = mask > 0\n",
    "        mask = torch.tensor(mask).cuda().float()\n",
    "        \n",
    "        \n",
    "        image = open_image(img_name)\n",
    "        pred = segment(image, use_tta=False, autofit_resolution=True, reverse_autofit=True, arch=arch, encoder=encoder)\n",
    "        pred = torch.argmax(pred, dim=0)\n",
    "        pred = (pred == 1).long()\n",
    "        jaccardIndex.update(pred, mask)\n",
    "    print(f\"Model: {arch}-{encoder}, Jaccard Index: {jaccardIndex.compute().item():.2%}\")\n",
    "\n",
    "for arch, encoder in all_models:\n",
    "    infer(arch, encoder)\n",
    "  "
   ]
  },
  {
   "cell_type": "markdown",
   "metadata": {},
   "source": [
    "# Optic Disk Localization"
   ]
  },
  {
   "cell_type": "code",
   "execution_count": 19,
   "metadata": {},
   "outputs": [
    {
     "data": {
      "application/vnd.jupyter.widget-view+json": {
       "model_id": "a109f77e6a06429b94e690a85d44b5ae",
       "version_major": 2,
       "version_minor": 0
      },
      "text/plain": [
       "  0%|          | 0/103 [00:00<?, ?it/s]"
      ]
     },
     "metadata": {},
     "output_type": "display_data"
    },
    {
     "name": "stdout",
     "output_type": "stream",
     "text": [
      "Model: unet-seresnet50, Mean distance: 25.73\n"
     ]
    },
    {
     "data": {
      "application/vnd.jupyter.widget-view+json": {
       "model_id": "32dbe13491f84db8ab3b7e0520439bae",
       "version_major": 2,
       "version_minor": 0
      },
      "text/plain": [
       "  0%|          | 0/103 [00:00<?, ?it/s]"
      ]
     },
     "metadata": {},
     "output_type": "display_data"
    },
    {
     "name": "stdout",
     "output_type": "stream",
     "text": [
      "Model: unet-maxvit_tiny_tf_512, Mean distance: 30.17\n"
     ]
    },
    {
     "data": {
      "application/vnd.jupyter.widget-view+json": {
       "model_id": "dd01f6c2575f459983861e15d4767328",
       "version_major": 2,
       "version_minor": 0
      },
      "text/plain": [
       "  0%|          | 0/103 [00:00<?, ?it/s]"
      ]
     },
     "metadata": {},
     "output_type": "display_data"
    },
    {
     "name": "stdout",
     "output_type": "stream",
     "text": [
      "Model: unet-maxvit_base_tf_512, Mean distance: 30.09\n"
     ]
    },
    {
     "data": {
      "application/vnd.jupyter.widget-view+json": {
       "model_id": "68ba1725e5c8493a9c3e8e95747cbfe4",
       "version_major": 2,
       "version_minor": 0
      },
      "text/plain": [
       "  0%|          | 0/103 [00:00<?, ?it/s]"
      ]
     },
     "metadata": {},
     "output_type": "display_data"
    },
    {
     "name": "stdout",
     "output_type": "stream",
     "text": [
      "Model: unet-mobilevitv2_100, Mean distance: 28.26\n"
     ]
    },
    {
     "data": {
      "application/vnd.jupyter.widget-view+json": {
       "model_id": "6bd0397f7cbc4736a35c7d8bc09b1599",
       "version_major": 2,
       "version_minor": 0
      },
      "text/plain": [
       "  0%|          | 0/103 [00:00<?, ?it/s]"
      ]
     },
     "metadata": {},
     "output_type": "display_data"
    },
    {
     "name": "stdout",
     "output_type": "stream",
     "text": [
      "Model: unetplusplus-seresnet50, Mean distance: 28.43\n"
     ]
    },
    {
     "data": {
      "application/vnd.jupyter.widget-view+json": {
       "model_id": "25472e3fd0d54b2dbbb8552c7e1cc367",
       "version_major": 2,
       "version_minor": 0
      },
      "text/plain": [
       "  0%|          | 0/103 [00:00<?, ?it/s]"
      ]
     },
     "metadata": {},
     "output_type": "display_data"
    },
    {
     "name": "stdout",
     "output_type": "stream",
     "text": [
      "Model: unet-mobilenetv3_small_050, Mean distance: 34.72\n"
     ]
    },
    {
     "data": {
      "application/vnd.jupyter.widget-view+json": {
       "model_id": "0a3cd74e9d744718aadac6d62a105de4",
       "version_major": 2,
       "version_minor": 0
      },
      "text/plain": [
       "  0%|          | 0/103 [00:00<?, ?it/s]"
      ]
     },
     "metadata": {},
     "output_type": "display_data"
    },
    {
     "name": "stdout",
     "output_type": "stream",
     "text": [
      "Model: unetplusplus-mobilenetv3_small_050, Mean distance: 42.44\n"
     ]
    },
    {
     "data": {
      "application/vnd.jupyter.widget-view+json": {
       "model_id": "ebd1dcaed7964773816f0ab7d699607e",
       "version_major": 2,
       "version_minor": 0
      },
      "text/plain": [
       "  0%|          | 0/103 [00:00<?, ?it/s]"
      ]
     },
     "metadata": {},
     "output_type": "display_data"
    },
    {
     "name": "stdout",
     "output_type": "stream",
     "text": [
      "Model: unet-maxvit_small_tf_512, Mean distance: 29.07\n"
     ]
    }
   ],
   "source": [
    "root = Path('/home/clement/Documents/data/IDRID/C. Localization/1. Original Images/b. Testing Set/')\n",
    "solution_filepath = '/home/clement/Documents/data/IDRID/C. Localization/2. Groundtruths/1. Optic Disc Center Location/b. IDRiD_OD_Center_Testing Set_Markups.csv'\n",
    "\n",
    "all_files = list(root.glob('*.jpg'))\n",
    "gt = pd.read_csv(solution_filepath)\n",
    "\n",
    "def inferod_loc(arch, encoder, tta=True):\n",
    "    all_distances = []\n",
    "    for file in tqdm(all_files):\n",
    "        filename = file.stem\n",
    "        image = open_image(file)\n",
    "        pred = segment(image, use_tta=tta, autofit_resolution=True, reverse_autofit=True, arch=arch, encoder=encoder)\n",
    "        pred = torch.argmax(pred, dim=0)\n",
    "        pred = (pred == 1).long()\n",
    "        y_center, x_center = pred.nonzero().float().mean(dim=0).tolist()\n",
    "        if y_center==0 and x_center==0:\n",
    "            continue\n",
    "        \n",
    "        gt_x_center, gt_y_center = gt[gt['Image No'] == filename][['X- Coordinate', 'Y - Coordinate']].values[0]\n",
    "        \n",
    "        distance = ((x_center - gt_x_center)**2 + (y_center - gt_y_center)**2)**0.5\n",
    "        all_distances.append(distance)\n",
    "    print(f\"Model: {arch}-{encoder}, Mean distance: {sum(all_distances)/len(all_distances):.2f}\")\n",
    "        \n",
    "\n",
    "for arch, encoder in all_models:\n",
    "    inferod_loc(arch, encoder, tta=True)"
   ]
  },
  {
   "cell_type": "markdown",
   "metadata": {},
   "source": [
    "# Fovea localization"
   ]
  },
  {
   "cell_type": "code",
   "execution_count": 43,
   "metadata": {},
   "outputs": [
    {
     "data": {
      "application/vnd.jupyter.widget-view+json": {
       "model_id": "e220270812b34151afa9e36a0f67f8ec",
       "version_major": 2,
       "version_minor": 0
      },
      "text/plain": [
       "  0%|          | 0/103 [00:00<?, ?it/s]"
      ]
     },
     "metadata": {},
     "output_type": "display_data"
    },
    {
     "ename": "KeyboardInterrupt",
     "evalue": "",
     "output_type": "error",
     "traceback": [
      "\u001b[0;31m---------------------------------------------------------------------------\u001b[0m",
      "\u001b[0;31mKeyboardInterrupt\u001b[0m                         Traceback (most recent call last)",
      "Cell \u001b[0;32mIn[43], line 26\u001b[0m\n\u001b[1;32m     22\u001b[0m         all_distances\u001b[38;5;241m.\u001b[39mappend(distance)\n\u001b[1;32m     23\u001b[0m     \u001b[38;5;28mprint\u001b[39m(\u001b[38;5;124mf\u001b[39m\u001b[38;5;124m\"\u001b[39m\u001b[38;5;124mModel: \u001b[39m\u001b[38;5;132;01m{\u001b[39;00march\u001b[38;5;132;01m}\u001b[39;00m\u001b[38;5;124m-\u001b[39m\u001b[38;5;132;01m{\u001b[39;00mencoder\u001b[38;5;132;01m}\u001b[39;00m\u001b[38;5;124m, Mean distance: \u001b[39m\u001b[38;5;132;01m{\u001b[39;00m\u001b[38;5;28msum\u001b[39m(all_distances)\u001b[38;5;241m/\u001b[39m\u001b[38;5;28mlen\u001b[39m(all_distances)\u001b[38;5;132;01m:\u001b[39;00m\u001b[38;5;124m.2f\u001b[39m\u001b[38;5;132;01m}\u001b[39;00m\u001b[38;5;124m\"\u001b[39m) \n\u001b[0;32m---> 26\u001b[0m \u001b[43minferfovea_loc\u001b[49m\u001b[43m(\u001b[49m\u001b[38;5;124;43m'\u001b[39;49m\u001b[38;5;124;43munet\u001b[39;49m\u001b[38;5;124;43m'\u001b[39;49m\u001b[43m,\u001b[49m\u001b[43m \u001b[49m\u001b[38;5;124;43m'\u001b[39;49m\u001b[38;5;124;43mmaxvit_small_tf_512\u001b[39;49m\u001b[38;5;124;43m'\u001b[39;49m\u001b[43m,\u001b[49m\u001b[43m \u001b[49m\u001b[43mtta\u001b[49m\u001b[38;5;241;43m=\u001b[39;49m\u001b[38;5;28;43;01mFalse\u001b[39;49;00m\u001b[43m)\u001b[49m\n",
      "Cell \u001b[0;32mIn[43], line 12\u001b[0m, in \u001b[0;36minferfovea_loc\u001b[0;34m(arch, encoder, tta)\u001b[0m\n\u001b[1;32m     10\u001b[0m filename \u001b[38;5;241m=\u001b[39m file\u001b[38;5;241m.\u001b[39mstem\n\u001b[1;32m     11\u001b[0m image \u001b[38;5;241m=\u001b[39m open_image(file)\n\u001b[0;32m---> 12\u001b[0m pred \u001b[38;5;241m=\u001b[39m \u001b[43msegment\u001b[49m\u001b[43m(\u001b[49m\u001b[43mimage\u001b[49m\u001b[43m,\u001b[49m\u001b[43m \u001b[49m\u001b[43muse_tta\u001b[49m\u001b[38;5;241;43m=\u001b[39;49m\u001b[43mtta\u001b[49m\u001b[43m,\u001b[49m\u001b[43m \u001b[49m\u001b[43mautofit_resolution\u001b[49m\u001b[38;5;241;43m=\u001b[39;49m\u001b[38;5;28;43;01mTrue\u001b[39;49;00m\u001b[43m,\u001b[49m\u001b[43m \u001b[49m\u001b[43mreverse_autofit\u001b[49m\u001b[38;5;241;43m=\u001b[39;49m\u001b[38;5;28;43;01mTrue\u001b[39;49;00m\u001b[43m,\u001b[49m\u001b[43m \u001b[49m\u001b[43march\u001b[49m\u001b[38;5;241;43m=\u001b[39;49m\u001b[43march\u001b[49m\u001b[43m,\u001b[49m\u001b[43m \u001b[49m\u001b[43mencoder\u001b[49m\u001b[38;5;241;43m=\u001b[39;49m\u001b[43mencoder\u001b[49m\u001b[43m)\u001b[49m\n\u001b[1;32m     13\u001b[0m pred \u001b[38;5;241m=\u001b[39m torch\u001b[38;5;241m.\u001b[39margmax(pred, dim\u001b[38;5;241m=\u001b[39m\u001b[38;5;241m0\u001b[39m)\n\u001b[1;32m     14\u001b[0m pred \u001b[38;5;241m=\u001b[39m (pred \u001b[38;5;241m==\u001b[39m \u001b[38;5;241m2\u001b[39m)\u001b[38;5;241m.\u001b[39mlong()\n",
      "File \u001b[0;32m~/Documents/Projets/fundus-ODMac-toolkit/src/fundus_odmac_toolkit/models/segmentation.py:58\u001b[0m, in \u001b[0;36msegment\u001b[0;34m(image, arch, encoder, image_resolution, autofit_resolution, reverse_autofit, mean, std, return_features, return_decoder_features, features_layer, device, compile, use_tta)\u001b[0m\n\u001b[1;32m     56\u001b[0m h, w, c \u001b[38;5;241m=\u001b[39m image\u001b[38;5;241m.\u001b[39mshape\n\u001b[1;32m     57\u001b[0m \u001b[38;5;28;01mif\u001b[39;00m autofit_resolution:\n\u001b[0;32m---> 58\u001b[0m     image, roi, transforms \u001b[38;5;241m=\u001b[39m \u001b[43mautofit_fundus_resolution\u001b[49m\u001b[43m(\u001b[49m\u001b[43mimage\u001b[49m\u001b[43m,\u001b[49m\u001b[43m \u001b[49m\u001b[43mimage_resolution\u001b[49m\u001b[43m,\u001b[49m\u001b[43m \u001b[49m\u001b[43mreturn_roi\u001b[49m\u001b[38;5;241;43m=\u001b[39;49m\u001b[38;5;28;43;01mTrue\u001b[39;49;00m\u001b[43m)\u001b[49m\n\u001b[1;32m     60\u001b[0m image \u001b[38;5;241m=\u001b[39m (image \u001b[38;5;241m/\u001b[39m \u001b[38;5;241m255.0\u001b[39m)\u001b[38;5;241m.\u001b[39mastype(np\u001b[38;5;241m.\u001b[39mfloat32)\n\u001b[1;32m     61\u001b[0m tensor \u001b[38;5;241m=\u001b[39m torch\u001b[38;5;241m.\u001b[39mfrom_numpy(image)\u001b[38;5;241m.\u001b[39mpermute((\u001b[38;5;241m2\u001b[39m, \u001b[38;5;241m0\u001b[39m, \u001b[38;5;241m1\u001b[39m))\u001b[38;5;241m.\u001b[39munsqueeze(\u001b[38;5;241m0\u001b[39m)\u001b[38;5;241m.\u001b[39mto(device)\n",
      "File \u001b[0;32m~/Documents/Projets/fundus-datamodule-toolkit/src/fundus_data_toolkit/functional.py:28\u001b[0m, in \u001b[0;36mautofit_fundus_resolution\u001b[0;34m(fundus, max_size, return_roi)\u001b[0m\n\u001b[1;32m     19\u001b[0m \u001b[38;5;28;01mdef\u001b[39;00m \u001b[38;5;21mautofit_fundus_resolution\u001b[39m(fundus, max_size, return_roi\u001b[38;5;241m=\u001b[39m\u001b[38;5;28;01mFalse\u001b[39;00m):\n\u001b[1;32m     20\u001b[0m \u001b[38;5;250m    \u001b[39m\u001b[38;5;124;03m\"\"\"\u001b[39;00m\n\u001b[1;32m     21\u001b[0m \u001b[38;5;124;03m    This function does all the necessary operations to fit a fundus image into a square shape, including automatic removal of black borders\u001b[39;00m\n\u001b[1;32m     22\u001b[0m \u001b[38;5;124;03m    It returns the parameters to be given to the reverse_autofit() function to inverse the transformation\u001b[39;00m\n\u001b[0;32m   (...)\u001b[0m\n\u001b[1;32m     26\u001b[0m \u001b[38;5;124;03m        return_roi (bool)\u001b[39;00m\n\u001b[1;32m     27\u001b[0m \u001b[38;5;124;03m    \"\"\"\u001b[39;00m\n\u001b[0;32m---> 28\u001b[0m     image, roi, margins \u001b[38;5;241m=\u001b[39m \u001b[43mautocrop_fundus\u001b[49m\u001b[43m(\u001b[49m\u001b[43mfundus\u001b[49m\u001b[43m)\u001b[49m\n\u001b[1;32m     29\u001b[0m     h, w \u001b[38;5;241m=\u001b[39m image\u001b[38;5;241m.\u001b[39mshape[:\u001b[38;5;241m2\u001b[39m]\n\u001b[1;32m     30\u001b[0m     f \u001b[38;5;241m=\u001b[39m max_size \u001b[38;5;241m/\u001b[39m \u001b[38;5;28mmax\u001b[39m((h, w))\n",
      "File \u001b[0;32m~/Documents/Projets/fundus-datamodule-toolkit/src/fundus_data_toolkit/functional.py:140\u001b[0m, in \u001b[0;36mautocrop_fundus\u001b[0;34m(fundus)\u001b[0m\n\u001b[1;32m    138\u001b[0m not_null_pixels \u001b[38;5;241m=\u001b[39m cv2\u001b[38;5;241m.\u001b[39mfindNonZero(roi)\n\u001b[1;32m    139\u001b[0m x_range \u001b[38;5;241m=\u001b[39m (np\u001b[38;5;241m.\u001b[39mmin(not_null_pixels[:, :, \u001b[38;5;241m0\u001b[39m]), np\u001b[38;5;241m.\u001b[39mmax(not_null_pixels[:, :, \u001b[38;5;241m0\u001b[39m]))\n\u001b[0;32m--> 140\u001b[0m y_range \u001b[38;5;241m=\u001b[39m (\u001b[43mnp\u001b[49m\u001b[38;5;241;43m.\u001b[39;49m\u001b[43mmin\u001b[49m\u001b[43m(\u001b[49m\u001b[43mnot_null_pixels\u001b[49m\u001b[43m[\u001b[49m\u001b[43m:\u001b[49m\u001b[43m,\u001b[49m\u001b[43m \u001b[49m\u001b[43m:\u001b[49m\u001b[43m,\u001b[49m\u001b[43m \u001b[49m\u001b[38;5;241;43m1\u001b[39;49m\u001b[43m]\u001b[49m\u001b[43m)\u001b[49m, np\u001b[38;5;241m.\u001b[39mmax(not_null_pixels[:, :, \u001b[38;5;241m1\u001b[39m]))\n\u001b[1;32m    141\u001b[0m fundus_croppped \u001b[38;5;241m=\u001b[39m fundus[y_range[\u001b[38;5;241m0\u001b[39m] : y_range[\u001b[38;5;241m1\u001b[39m], x_range[\u001b[38;5;241m0\u001b[39m] : x_range[\u001b[38;5;241m1\u001b[39m]]\n\u001b[1;32m    142\u001b[0m roi_cropped \u001b[38;5;241m=\u001b[39m roi[y_range[\u001b[38;5;241m0\u001b[39m] : y_range[\u001b[38;5;241m1\u001b[39m], x_range[\u001b[38;5;241m0\u001b[39m] : x_range[\u001b[38;5;241m1\u001b[39m]]\n",
      "File \u001b[0;32m~/miniforge-pypy3/envs/dl/lib/python3.11/site-packages/numpy/core/fromnumeric.py:2953\u001b[0m, in \u001b[0;36mmin\u001b[0;34m(a, axis, out, keepdims, initial, where)\u001b[0m\n\u001b[1;32m   2836\u001b[0m \u001b[38;5;129m@array_function_dispatch\u001b[39m(_min_dispatcher)\n\u001b[1;32m   2837\u001b[0m \u001b[38;5;28;01mdef\u001b[39;00m \u001b[38;5;21mmin\u001b[39m(a, axis\u001b[38;5;241m=\u001b[39m\u001b[38;5;28;01mNone\u001b[39;00m, out\u001b[38;5;241m=\u001b[39m\u001b[38;5;28;01mNone\u001b[39;00m, keepdims\u001b[38;5;241m=\u001b[39mnp\u001b[38;5;241m.\u001b[39m_NoValue, initial\u001b[38;5;241m=\u001b[39mnp\u001b[38;5;241m.\u001b[39m_NoValue,\n\u001b[1;32m   2838\u001b[0m         where\u001b[38;5;241m=\u001b[39mnp\u001b[38;5;241m.\u001b[39m_NoValue):\n\u001b[1;32m   2839\u001b[0m \u001b[38;5;250m    \u001b[39m\u001b[38;5;124;03m\"\"\"\u001b[39;00m\n\u001b[1;32m   2840\u001b[0m \u001b[38;5;124;03m    Return the minimum of an array or minimum along an axis.\u001b[39;00m\n\u001b[1;32m   2841\u001b[0m \n\u001b[0;32m   (...)\u001b[0m\n\u001b[1;32m   2951\u001b[0m \u001b[38;5;124;03m    6\u001b[39;00m\n\u001b[1;32m   2952\u001b[0m \u001b[38;5;124;03m    \"\"\"\u001b[39;00m\n\u001b[0;32m-> 2953\u001b[0m     \u001b[38;5;28;01mreturn\u001b[39;00m \u001b[43m_wrapreduction\u001b[49m\u001b[43m(\u001b[49m\u001b[43ma\u001b[49m\u001b[43m,\u001b[49m\u001b[43m \u001b[49m\u001b[43mnp\u001b[49m\u001b[38;5;241;43m.\u001b[39;49m\u001b[43mminimum\u001b[49m\u001b[43m,\u001b[49m\u001b[43m \u001b[49m\u001b[38;5;124;43m'\u001b[39;49m\u001b[38;5;124;43mmin\u001b[39;49m\u001b[38;5;124;43m'\u001b[39;49m\u001b[43m,\u001b[49m\u001b[43m \u001b[49m\u001b[43maxis\u001b[49m\u001b[43m,\u001b[49m\u001b[43m \u001b[49m\u001b[38;5;28;43;01mNone\u001b[39;49;00m\u001b[43m,\u001b[49m\u001b[43m \u001b[49m\u001b[43mout\u001b[49m\u001b[43m,\u001b[49m\n\u001b[1;32m   2954\u001b[0m \u001b[43m                          \u001b[49m\u001b[43mkeepdims\u001b[49m\u001b[38;5;241;43m=\u001b[39;49m\u001b[43mkeepdims\u001b[49m\u001b[43m,\u001b[49m\u001b[43m \u001b[49m\u001b[43minitial\u001b[49m\u001b[38;5;241;43m=\u001b[39;49m\u001b[43minitial\u001b[49m\u001b[43m,\u001b[49m\u001b[43m \u001b[49m\u001b[43mwhere\u001b[49m\u001b[38;5;241;43m=\u001b[39;49m\u001b[43mwhere\u001b[49m\u001b[43m)\u001b[49m\n",
      "File \u001b[0;32m~/miniforge-pypy3/envs/dl/lib/python3.11/site-packages/numpy/core/fromnumeric.py:88\u001b[0m, in \u001b[0;36m_wrapreduction\u001b[0;34m(obj, ufunc, method, axis, dtype, out, **kwargs)\u001b[0m\n\u001b[1;32m     85\u001b[0m         \u001b[38;5;28;01melse\u001b[39;00m:\n\u001b[1;32m     86\u001b[0m             \u001b[38;5;28;01mreturn\u001b[39;00m reduction(axis\u001b[38;5;241m=\u001b[39maxis, out\u001b[38;5;241m=\u001b[39mout, \u001b[38;5;241m*\u001b[39m\u001b[38;5;241m*\u001b[39mpasskwargs)\n\u001b[0;32m---> 88\u001b[0m \u001b[38;5;28;01mreturn\u001b[39;00m \u001b[43mufunc\u001b[49m\u001b[38;5;241;43m.\u001b[39;49m\u001b[43mreduce\u001b[49m\u001b[43m(\u001b[49m\u001b[43mobj\u001b[49m\u001b[43m,\u001b[49m\u001b[43m \u001b[49m\u001b[43maxis\u001b[49m\u001b[43m,\u001b[49m\u001b[43m \u001b[49m\u001b[43mdtype\u001b[49m\u001b[43m,\u001b[49m\u001b[43m \u001b[49m\u001b[43mout\u001b[49m\u001b[43m,\u001b[49m\u001b[43m \u001b[49m\u001b[38;5;241;43m*\u001b[39;49m\u001b[38;5;241;43m*\u001b[39;49m\u001b[43mpasskwargs\u001b[49m\u001b[43m)\u001b[49m\n",
      "\u001b[0;31mKeyboardInterrupt\u001b[0m: "
     ]
    }
   ],
   "source": [
    "import math\n",
    "\n",
    "\n",
    "\n",
    "solution_filepath_fovea = '/home/clement/Documents/data/IDRID/C. Localization/2. Groundtruths/2. Fovea Center Location/IDRiD_Fovea_Center_Testing Set_Markups.csv'\n",
    "gt_fovea = pd.read_csv(solution_filepath_fovea)\n",
    "def inferfovea_loc(arch, encoder, tta=True):\n",
    "    all_distances = []\n",
    "    for file in tqdm(all_files):\n",
    "        filename = file.stem\n",
    "        image = open_image(file)\n",
    "        pred = segment(image, use_tta=tta, autofit_resolution=True, reverse_autofit=True, arch=arch, encoder=encoder)\n",
    "        pred = torch.argmax(pred, dim=0)\n",
    "        pred = (pred == 2).long()\n",
    "        y_center, x_center = pred.nonzero().float().mean(dim=0).tolist()\n",
    "        \n",
    "        gt_x_center, gt_y_center = gt_fovea[gt_fovea['Image No'] == filename][['X- Coordinate', 'Y - Coordinate']].values[0]\n",
    "        distance = ((x_center - gt_x_center)**2 + (y_center - gt_y_center)**2)**0.5\n",
    "        if math.isnan(distance):\n",
    "            print('Macula was not detected!')\n",
    "            continue\n",
    "        all_distances.append(distance)\n",
    "    print(f\"Model: {arch}-{encoder}, Mean distance: {sum(all_distances)/len(all_distances):.2f}\") \n",
    "\n",
    "\n",
    "inferfovea_loc('unet', 'maxvit_small_tf_512', tta=True)"
   ]
  }
 ],
 "metadata": {
  "kernelspec": {
   "display_name": "dl",
   "language": "python",
   "name": "python3"
  },
  "language_info": {
   "codemirror_mode": {
    "name": "ipython",
    "version": 3
   },
   "file_extension": ".py",
   "mimetype": "text/x-python",
   "name": "python",
   "nbconvert_exporter": "python",
   "pygments_lexer": "ipython3",
   "version": "3.11.9"
  }
 },
 "nbformat": 4,
 "nbformat_minor": 2
}
